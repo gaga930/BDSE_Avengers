{
 "cells": [
  {
   "cell_type": "code",
   "execution_count": 1,
   "metadata": {},
   "outputs": [
    {
     "name": "stdout",
     "output_type": "stream",
     "text": [
      "【訊息】目前的工作目錄: D:\\Mypython\n"
     ]
    }
   ],
   "source": [
    "# -*- coding: utf-8 -*-\n",
    "import os as os\n",
    "import pandas as pd\n",
    "import numpy as np\n",
    "import pickle\n",
    "import pyodbc\n",
    "import glob\n",
    "import csv\n",
    "import random\n",
    "# import preprocessing\n",
    "import time\n",
    "from sklearn.ensemble import RandomForestClassifier\n",
    "# from sklearn import preprocessing\n",
    "from sklearn.preprocessing import StandardScaler\n",
    "from sklearn.neighbors import KNeighborsClassifier\n",
    "from sklearn.ensemble import AdaBoostClassifier\n",
    "from sklearn.linear_model import LogisticRegression\n",
    "from xgboost import XGBClassifier\n",
    "from sklearn.ensemble import VotingClassifier #整合(可分配占比)\n",
    "# from sklearn import cross_validation #交叉驗證資料準確度(這個以廢棄)\n",
    "# from sklearn.cross_validation import cross_val_score #交叉驗證資料準確度(這個以廢棄)\n",
    "from sklearn.model_selection import cross_val_score #交叉驗證資料準確度\n",
    "from sklearn.model_selection import learning_curve\n",
    "from sklearn.model_selection import StratifiedKFold\n",
    "import matplotlib.pyplot as plt\n",
    "\n",
    "print(\"【訊息】目前的工作目錄:\",os.getcwd())"
   ]
  },
  {
   "cell_type": "code",
   "execution_count": 2,
   "metadata": {},
   "outputs": [
    {
     "name": "stdout",
     "output_type": "stream",
     "text": [
      "['feat_1', 'feat_2', 'feat_3', 'feat_4', 'feat_5', 'feat_6', 'feat_7', 'feat_8', 'feat_9', 'feat_10', 'feat_11', 'feat_12', 'feat_13', 'feat_14', 'feat_15', 'feat_16', 'feat_17', 'feat_18', 'feat_19', 'feat_20', 'feat_21', 'feat_22', 'feat_23', 'feat_24', 'feat_25', 'feat_26', 'feat_27', 'feat_28', 'feat_29', 'feat_30', 'feat_31', 'feat_32', 'feat_33', 'feat_34', 'feat_35', 'feat_36', 'feat_37', 'feat_38', 'feat_39', 'feat_40', 'feat_41', 'feat_42', 'feat_43', 'feat_44', 'feat_45', 'feat_46', 'feat_47', 'feat_48', 'feat_49', 'feat_50', 'feat_51', 'feat_52', 'feat_53', 'feat_54', 'feat_55', 'feat_56', 'feat_57', 'feat_58', 'feat_59', 'feat_60', 'feat_61', 'feat_62', 'feat_63', 'feat_64', 'feat_65', 'feat_66', 'feat_67', 'feat_68', 'feat_69', 'feat_70', 'feat_71', 'feat_72', 'feat_73', 'feat_74', 'feat_75', 'feat_76', 'feat_77', 'feat_78', 'feat_79', 'feat_80', 'feat_81', 'feat_82', 'feat_83', 'feat_84', 'feat_85', 'feat_86', 'feat_87', 'feat_88', 'feat_89', 'feat_90', 'feat_91', 'feat_92', 'feat_93', 'target']\n"
     ]
    }
   ],
   "source": [
    "traindata = []\n",
    "trainlabel = []\n",
    "datafile=pd.read_csv(r'D:\\Mypython\\train.csv', sep=',', index_col=0, header=0)\n",
    "print(list(datafile.columns))    #觀看輸入資料的欄位\n",
    "datafile['target'] = datafile['target'].str[-1].astype(int)  #將 class1 , class2...class9 轉換成 1 , 2...9\n",
    "for i in range(1,len(datafile)):   #6萬筆資料的輸入\n",
    "    l = []\n",
    "    l = datafile.loc[i,datafile.columns[0:93]] \n",
    "    traindata.append(l)     #每筆放入 feat_1 , feat_2 ..... feat_93\n",
    "    trainlabel.append(datafile.loc[i,datafile.columns[-1]])  #把每筆的 target 放入\n",
    "traindata = np.array(traindata,dtype=\"float\") #轉化成陣列  \n",
    "trainlabel = np.array(trainlabel,dtype=\"int\") #轉化成陣列\n",
    "# trainlabel = np.array(trainlabel,dtype=\"str\") #轉化成陣列，但轉字串\n",
    "mean = traindata.mean(axis=0)   #平均\n",
    "# axis = 0：壓縮行，對各列求均值，返回 1 * n 矩陣\n",
    "# axis = 1 ：壓縮列，對各行求均值，返回 m * 1 矩陣\n",
    "std = traindata.std(axis=0)     #標準差\n",
    "traindata = (traindata - mean)/std #正規化\n"
   ]
  },
  {
   "cell_type": "code",
   "execution_count": 3,
   "metadata": {},
   "outputs": [],
   "source": [
    "randomIndex = [i for i in range(len(trainlabel))]  # 多少筆資料\n",
    "random.shuffle(randomIndex)   #亂數洗牌 ， 以免每筆資料有連貫\n",
    "traindata = traindata[randomIndex]\n",
    "trainlabel = trainlabel[randomIndex]"
   ]
  },
  {
   "cell_type": "code",
   "execution_count": 20,
   "metadata": {},
   "outputs": [],
   "source": [
    "testdata = []\n",
    "datafile2=pd.read_csv(r'D:\\Mypython\\test.csv', sep=',', index_col=0, header=0)\n",
    "for i in range(1,len(datafile2)+1):   #6萬筆資料的輸入\n",
    "    l = []\n",
    "    l = datafile2.loc[i,datafile2.columns[0:93]] \n",
    "    testdata.append(l)\n",
    "testdata = np.array(testdata,dtype=\"float\")\n",
    "mean = testdata.mean(axis=0) \n",
    "std = testdata.std(axis=0)\n",
    "testdata = (testdata - mean)/std "
   ]
  },
  {
   "cell_type": "code",
   "execution_count": 21,
   "metadata": {},
   "outputs": [
    {
     "name": "stdout",
     "output_type": "stream",
     "text": [
      "144368\n"
     ]
    }
   ],
   "source": [
    "print(len(testdata))"
   ]
  },
  {
   "cell_type": "code",
   "execution_count": 22,
   "metadata": {},
   "outputs": [
    {
     "name": "stdout",
     "output_type": "stream",
     "text": [
      "[4 6 6 ... 2 2 2]\n",
      "[0.019942857142857144, 0.04380952380952381, 0.040328571428571436, 0.030452380952380953, 0.0066, 0.47808730158730167, 0.021857142857142856, 0.34785555555555553, 0.011066666666666667]\n",
      "每組評分: [81. 80. 81. 81. 81.]\n",
      "模型評分: 81 % 的準確率\n"
     ]
    }
   ],
   "source": [
    "rfClf = RandomForestClassifier(criterion='gini', n_jobs=-1, n_estimators=500, max_features=18, min_samples_split=5, max_depth=46, class_weight=None)\n",
    "RF=rfClf.fit(traindata,trainlabel)  #餵進資料進行訓練，並模型建置\n",
    "test_pred_label = rfClf.predict_proba(testdata)  # 返回预测属于某標籤的概率 \n",
    "print(rfClf.predict(testdata)) # 返回预测標籤\n",
    "print(list(test_pred_label[1]))\n",
    "\n",
    "scores = cross_val_score(rfClf,traindata,trainlabel,cv=5,scoring='accuracy') #交叉驗證分5組\n",
    "print(\"每組評分:\",np.floor(scores*100))\n",
    "print(\"模型評分:\",int(scores.mean()*100),\"% 的準確率\")\n"
   ]
  },
  {
   "cell_type": "code",
   "execution_count": 8,
   "metadata": {},
   "outputs": [
    {
     "name": "stdout",
     "output_type": "stream",
     "text": [
      "[2 6 6 ... 3 3 2]\n",
      "[0.0, 0.0, 0.0, 0.0, 0.0, 0.984375, 0.0, 0.015625, 0.0]\n",
      "每組評分: [73. 73. 73. 73. 73.]\n",
      "模型評分: 73 % 的準確率\n"
     ]
    }
   ],
   "source": [
    "knnClf = KNeighborsClassifier(n_neighbors=128, n_jobs=-1)\n",
    "KN=knnClf.fit(traindata,trainlabel)  #餵進資料進行訓練，並模型建置\n",
    "test_pred_label = knnClf.predict_proba(testdata)  # 返回预测属于某標籤的概率 \n",
    "print(knnClf.predict(testdata)) # 返回预测標籤\n",
    "print(list(test_pred_label[1]))\n",
    "\n",
    "scores = cross_val_score(knnClf,traindata,trainlabel,cv=5,scoring='accuracy') #交叉驗證分5組\n",
    "print(\"每組評分:\",np.floor(scores*100))\n",
    "print(\"模型評分:\",int(scores.mean()*100),\"% 的準確率\")\n"
   ]
  },
  {
   "cell_type": "code",
   "execution_count": 23,
   "metadata": {},
   "outputs": [
    {
     "name": "stdout",
     "output_type": "stream",
     "text": [
      "[4 6 6 ... 3 2 2]\n",
      "[0.00030319026173244713, 7.20654531739938e-05, 5.224655157781561e-07, 5.619158647183859e-08, 1.1892818690111713e-05, 0.699755188893166, 0.00041800279395069046, 0.29831063112136963, 0.0011284500008147873]\n"
     ]
    }
   ],
   "source": [
    "LRClf =  LogisticRegression(penalty='l2', solver='lbfgs', n_jobs=-1, C=0.5, class_weight=None, multi_class='multinomial')\n",
    "LR=LRClf.fit(traindata,trainlabel)  #餵進資料進行訓練，並模型建置\n",
    "test_pred_label = LRClf.predict_proba(testdata)  # 返回预测属于某標籤的概率 \n",
    "print(LRClf.predict(testdata)) # 返回预测標籤\n",
    "print(list(test_pred_label[1]))"
   ]
  },
  {
   "cell_type": "code",
   "execution_count": 28,
   "metadata": {},
   "outputs": [
    {
     "name": "stdout",
     "output_type": "stream",
     "text": [
      "[4 6 6 ... 2 4 3]\n",
      "[0.07055033, 0.0031603281, 0.0039660516, 0.012828649, 0.0020049645, 0.5785077, 0.009150462, 0.31168106, 0.008150504]\n"
     ]
    }
   ],
   "source": [
    "XGClf =XGBClassifier(base_score=0.5, colsample_bylevel=1,\n",
    "                             colsample_bytree=0.9, gamma=1,\n",
    "                             learning_rate=1, max_delta_step=0, max_depth=30,\n",
    "                             min_child_weight=7, n_estimators=6, nthread=-1,\n",
    "                             objective='multi:softprob', reg_alpha=0, reg_lambda=1,\n",
    "                             scale_pos_weight=1, subsample=1)\n",
    "XG = XGClf.fit(traindata,trainlabel)  #餵進資料進行訓練，並模型建置\n",
    "test_pred_label = XGClf.predict_proba(testdata)  # 返回预测属于某標籤的概率 \n",
    "print(XGClf.predict(testdata)) # 返回预测標籤\n",
    "print(list(test_pred_label[1]))"
   ]
  },
  {
   "cell_type": "code",
   "execution_count": 29,
   "metadata": {},
   "outputs": [],
   "source": [
    "np.savetxt(r\"D:\\MyPython\\Kaggle_XGBClassifier.csv\", test_pred_label, delimiter=\",\")"
   ]
  },
  {
   "cell_type": "code",
   "execution_count": 25,
   "metadata": {},
   "outputs": [
    {
     "name": "stdout",
     "output_type": "stream",
     "text": [
      "[4 6 6 ... 2 4 3]\n",
      "[0.0385613559904145, 0.02316505679633873, 0.022901469363451003, 0.015529003483603898, 0.004632208401679411, 0.5347443116394349, 0.013781725969256387, 0.33635379251459785, 0.010331100133220483]\n"
     ]
    }
   ],
   "source": [
    "# model ensemble (模型整合)\n",
    "eclf = VotingClassifier(estimators=[('rf', RF), ('lr', LR),('xgb',XG)],voting='soft', weights=[3 , 1 , 2])\n",
    "eclf.fit(traindata,trainlabel)\n",
    "test_pred_label = eclf.predict_proba(testdata)\n",
    "print(eclf.predict(testdata)) # 返回预测標籤\n",
    "print(list(test_pred_label[1]))\n"
   ]
  },
  {
   "cell_type": "code",
   "execution_count": 26,
   "metadata": {},
   "outputs": [
    {
     "name": "stdout",
     "output_type": "stream",
     "text": [
      "144368\n"
     ]
    }
   ],
   "source": [
    "print(len(test_pred_label))"
   ]
  },
  {
   "cell_type": "code",
   "execution_count": 27,
   "metadata": {},
   "outputs": [],
   "source": [
    "np.savetxt(r\"D:\\MyPython\\Kaggle_VotingClassifier.csv\", test_pred_label, delimiter=\",\")"
   ]
  },
  {
   "cell_type": "code",
   "execution_count": null,
   "metadata": {},
   "outputs": [],
   "source": []
  }
 ],
 "metadata": {
  "kernelspec": {
   "display_name": "Python 3",
   "language": "python",
   "name": "python3"
  },
  "language_info": {
   "codemirror_mode": {
    "name": "ipython",
    "version": 3
   },
   "file_extension": ".py",
   "mimetype": "text/x-python",
   "name": "python",
   "nbconvert_exporter": "python",
   "pygments_lexer": "ipython3",
   "version": "3.7.1"
  }
 },
 "nbformat": 4,
 "nbformat_minor": 2
}
