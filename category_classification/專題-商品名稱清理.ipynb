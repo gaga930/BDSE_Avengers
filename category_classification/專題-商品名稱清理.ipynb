{
 "cells": [
  {
   "cell_type": "code",
   "execution_count": 236,
   "metadata": {},
   "outputs": [
    {
     "name": "stdout",
     "output_type": "stream",
     "text": [
      "【訊息】目前的工作目錄: D:\\Mypython\n"
     ]
    }
   ],
   "source": [
    "# -*- coding: utf-8 -*-\n",
    "import pandas as pd\n",
    "import numpy as np\n",
    "import join\n",
    "\n",
    "print(\"【訊息】目前的工作目錄:\",os.getcwd())"
   ]
  },
  {
   "cell_type": "code",
   "execution_count": 237,
   "metadata": {},
   "outputs": [
    {
     "data": {
      "text/html": [
       "<div>\n",
       "<style scoped>\n",
       "    .dataframe tbody tr th:only-of-type {\n",
       "        vertical-align: middle;\n",
       "    }\n",
       "\n",
       "    .dataframe tbody tr th {\n",
       "        vertical-align: top;\n",
       "    }\n",
       "\n",
       "    .dataframe thead th {\n",
       "        text-align: right;\n",
       "    }\n",
       "</style>\n",
       "<table border=\"1\" class=\"dataframe\">\n",
       "  <thead>\n",
       "    <tr style=\"text-align: right;\">\n",
       "      <th></th>\n",
       "      <th>標籤</th>\n",
       "      <th>商品名稱</th>\n",
       "      <th>商品子分類名稱</th>\n",
       "      <th>Google子分類代號</th>\n",
       "    </tr>\n",
       "    <tr>\n",
       "      <th>id</th>\n",
       "      <th></th>\n",
       "      <th></th>\n",
       "      <th></th>\n",
       "      <th></th>\n",
       "    </tr>\n",
       "  </thead>\n",
       "  <tbody>\n",
       "    <tr>\n",
       "      <th>1</th>\n",
       "      <td>水波動/神奇健康熱魔敷濕熱帶/熱魔敷/濕熱帶/健康</td>\n",
       "      <td>神奇健康熱魔敷濕熱帶</td>\n",
       "      <td>腰包/臂包/臂套/護具</td>\n",
       "      <td>990</td>\n",
       "    </tr>\n",
       "    <tr>\n",
       "      <th>2</th>\n",
       "      <td>COOLFCA 自發熱保暖足貼/COOLFCA/自發熱/足貼/保暖/暖暖包</td>\n",
       "      <td>COOLFCA自發熱保暖足貼</td>\n",
       "      <td>腰包/臂包/臂套/護具</td>\n",
       "      <td>990</td>\n",
       "    </tr>\n",
       "    <tr>\n",
       "      <th>3</th>\n",
       "      <td>7Power/舒緩磁力貼/磁力貼/舒緩</td>\n",
       "      <td>緩磁力貼系列商品</td>\n",
       "      <td>腰包/臂包/臂套/護具</td>\n",
       "      <td>990</td>\n",
       "    </tr>\n",
       "    <tr>\n",
       "      <th>4</th>\n",
       "      <td>7Power/醫療級/專業/護具/保護/運動/舒緩</td>\n",
       "      <td>醫療級專業護具系列</td>\n",
       "      <td>腰包/臂包/臂套/護具</td>\n",
       "      <td>990</td>\n",
       "    </tr>\n",
       "    <tr>\n",
       "      <th>5</th>\n",
       "      <td>章魚/小丸子ˋ/跳蛋/情趣用品</td>\n",
       "      <td>章魚小丸子</td>\n",
       "      <td>腰包/臂包/臂套/護具</td>\n",
       "      <td>990</td>\n",
       "    </tr>\n",
       "  </tbody>\n",
       "</table>\n",
       "</div>"
      ],
      "text/plain": [
       "                                       標籤            商品名稱      商品子分類名稱  \\\n",
       "id                                                                       \n",
       "1               水波動/神奇健康熱魔敷濕熱帶/熱魔敷/濕熱帶/健康      神奇健康熱魔敷濕熱帶  腰包/臂包/臂套/護具   \n",
       "2   COOLFCA 自發熱保暖足貼/COOLFCA/自發熱/足貼/保暖/暖暖包  COOLFCA自發熱保暖足貼  腰包/臂包/臂套/護具   \n",
       "3                     7Power/舒緩磁力貼/磁力貼/舒緩        緩磁力貼系列商品  腰包/臂包/臂套/護具   \n",
       "4               7Power/醫療級/專業/護具/保護/運動/舒緩       醫療級專業護具系列  腰包/臂包/臂套/護具   \n",
       "5                         章魚/小丸子ˋ/跳蛋/情趣用品           章魚小丸子  腰包/臂包/臂套/護具   \n",
       "\n",
       "    Google子分類代號  \n",
       "id               \n",
       "1           990  \n",
       "2           990  \n",
       "3           990  \n",
       "4           990  \n",
       "5           990  "
      ]
     },
     "execution_count": 237,
     "metadata": {},
     "output_type": "execute_result"
    }
   ],
   "source": [
    "df=pd.read_excel(r'D:\\Mypython\\專題\\deal.xlsx', sep=',', index_col=0, header=0)\n",
    "df.head()"
   ]
  },
  {
   "cell_type": "code",
   "execution_count": 238,
   "metadata": {},
   "outputs": [
    {
     "data": {
      "text/plain": [
       "'【水波動】神奇健康熱魔敷濕熱帶'"
      ]
     },
     "execution_count": 238,
     "metadata": {},
     "output_type": "execute_result"
    }
   ],
   "source": [
    "datafile.loc[1,'商品名稱']"
   ]
  },
  {
   "cell_type": "code",
   "execution_count": 239,
   "metadata": {},
   "outputs": [
    {
     "data": {
      "text/plain": [
       "1427"
      ]
     },
     "execution_count": 239,
     "metadata": {},
     "output_type": "execute_result"
    }
   ],
   "source": [
    "len(df)"
   ]
  },
  {
   "cell_type": "code",
   "execution_count": 240,
   "metadata": {},
   "outputs": [],
   "source": [
    "name = []\n",
    "for i in range(1,len(df)+1):\n",
    "    if (datafile.loc[i,'商品名稱'].find(\"【\")) >= 0 :\n",
    "        if (''.join(datafile.loc[i,'商品名稱'].split(\"】\")[-1]).strip()) == \"\" :\n",
    "            name.append(''.join(datafile.loc[i,'商品名稱'].split(\"】\")[-2]).strip())\n",
    "        else :\n",
    "            name.append(''.join(datafile.loc[i,'商品名稱'].split(\"】\")[-1]).strip())\n",
    "    else :\n",
    "        name.append(''.join(datafile.loc[i,'商品名稱']).strip())"
   ]
  },
  {
   "cell_type": "code",
   "execution_count": 241,
   "metadata": {},
   "outputs": [],
   "source": [
    "name2 = []\n",
    "for i in name :\n",
    "    name2.append(i.replace('=','').replace('-','').\n",
    "                 replace('(','').replace(')','').\n",
    "                 replace('+','').replace('【','').\n",
    "                 replace('/','').replace('\\\\','').\n",
    "                 replace('!','').replace('，','').\n",
    "                 replace('#','').replace('_','').\n",
    "                 replace(';','').replace(':','').replace(' ',''))"
   ]
  },
  {
   "cell_type": "code",
   "execution_count": 242,
   "metadata": {},
   "outputs": [],
   "source": [
    "name2\n",
    "name2 = np.array(name2,dtype=\"str\")"
   ]
  },
  {
   "cell_type": "code",
   "execution_count": 243,
   "metadata": {},
   "outputs": [
    {
     "data": {
      "text/plain": [
       "1427"
      ]
     },
     "execution_count": 243,
     "metadata": {},
     "output_type": "execute_result"
    }
   ],
   "source": [
    "len(name2)"
   ]
  },
  {
   "cell_type": "code",
   "execution_count": 244,
   "metadata": {},
   "outputs": [
    {
     "data": {
      "text/plain": [
       "'304不鏽鋼免釘鑽質感肥皂架牙刷架'"
      ]
     },
     "execution_count": 244,
     "metadata": {},
     "output_type": "execute_result"
    }
   ],
   "source": [
    "name2[464]"
   ]
  },
  {
   "cell_type": "code",
   "execution_count": 235,
   "metadata": {},
   "outputs": [],
   "source": [
    "pd.DataFrame(name2).to_csv(r\"D:\\MyPython\\專題\\name.csv\", encoding='utf_8_sig')"
   ]
  },
  {
   "cell_type": "code",
   "execution_count": null,
   "metadata": {},
   "outputs": [],
   "source": []
  }
 ],
 "metadata": {
  "kernelspec": {
   "display_name": "Python 3",
   "language": "python",
   "name": "python3"
  },
  "language_info": {
   "codemirror_mode": {
    "name": "ipython",
    "version": 3
   },
   "file_extension": ".py",
   "mimetype": "text/x-python",
   "name": "python",
   "nbconvert_exporter": "python",
   "pygments_lexer": "ipython3",
   "version": "3.7.1"
  }
 },
 "nbformat": 4,
 "nbformat_minor": 2
}
